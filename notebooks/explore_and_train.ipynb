{
 "cells": [
  {
   "cell_type": "markdown",
   "id": "f31bcfd3",
   "metadata": {},
   "source": [
    "# Exploration et pipeline\n",
    "Ce notebook charge les X/y fournis, montre un aperçu, exécute un petit entrainement local et illustre l'utilisation de MLflow localement."
   ]
  },
  {
   "cell_type": "code",
   "execution_count": null,
   "id": "595733b4",
   "metadata": {},
   "outputs": [],
   "source": [
    "import pandas as pd, joblib, os\n",
    "print('list data files:')\n",
    "print(os.listdir('data'))\n",
    "X_train = pd.read_csv('data/X_train.csv')\n",
    "y_train = pd.read_csv('data/y_train.csv')\n",
    "X_test = pd.read_csv('data/X_test.csv')\n",
    "y_test = pd.read_csv('data/y_test.csv')\n",
    "print('X_train shape:', X_train.shape)\n",
    "display(X_train.head())\n",
    "print('y_train shape:', y_train.shape)\n",
    "display(y_train.head())"
   ]
  },
  {
   "cell_type": "code",
   "execution_count": null,
   "id": "46ce6847",
   "metadata": {},
   "outputs": [],
   "source": [
    "# quick local train\n",
    "from sklearn.ensemble import RandomForestClassifier\n",
    "from sklearn.metrics import accuracy_score\n",
    "clf = RandomForestClassifier(n_estimators=50, random_state=42)\n",
    "clf.fit(X_train, y_train.values.ravel())\n",
    "preds = clf.predict(X_test)\n",
    "print('accuracy:', accuracy_score(y_test, preds))\n",
    "import joblib, os\n",
    "os.makedirs('outputs', exist_ok=True)\n",
    "joblib.dump(clf, 'outputs/model.pkl')\n",
    "print('saved model to outputs/model.pkl')"
   ]
  },
  {
   "cell_type": "markdown",
   "id": "54b0caa9",
   "metadata": {},
   "source": [
    "## Lancer MLflow localement\n",
    "\n",
    "Dans un terminal:\n",
    "```\n",
    "pip install mlflow\n",
    "mlflow ui --backend-store-uri sqlite:///mlflow.db --default-artifact-root ./mlflow/artifacts -p 5000\n",
    "```\n",
    "Ensuite, utiliser le script `src/training/train.py` ou exécuter la cellule suivante pour démarrer un run MLflow."
   ]
  },
  {
   "cell_type": "code",
   "execution_count": null,
   "id": "3560c1af",
   "metadata": {},
   "outputs": [],
   "source": [
    "!python src/training/train.py --x-train data/X_train.csv --y-train data/y_train.csv --x-test data/X_test.csv --y-test data/y_test.csv --output-dir outputs --mlflow-uri http://127.0.0.1:5000"
   ]
  }
 ],
 "metadata": {},
 "nbformat": 4,
 "nbformat_minor": 5
}
